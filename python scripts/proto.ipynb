{
 "cells": [
  {
   "cell_type": "code",
   "execution_count": 6,
   "metadata": {
    "collapsed": true
   },
   "outputs": [],
   "source": [
    "import requests\n",
    "import json\n",
    "\n",
    "def make_request(URL, http_mode='GET', data=None):\n",
    "    if http_mode == 'GET':\n",
    "        r = requests.get(URL)\n",
    "        return json.loads(r.content.decode(\"utf-8\"))\n",
    "    else:\n",
    "        requests.post(URL, data)\n",
    "        return\n"
   ]
  },
  {
   "cell_type": "code",
   "execution_count": 7,
   "metadata": {},
   "outputs": [],
   "source": [
    "r = make_request(\"http://griin.today/API/boundaries\", \"POST\", {\"x\": 1, \"y\":2, \"angle\": 90})\n",
    "make_request(\"http://griin.today/API/boundaries\", \"POST\", {\"x\": 10, \"y\":20})\n",
    "make_request(\"http://griin.today/API/boundaries\", \"POST\", {\"x\": 5, \"y\":4})\n",
    "make_request(\"http://griin.today/API/boundaries\", \"POST\", {\"x\": -5, \"y\":10.9})\n",
    "\n",
    "# print(make_request(\"http://griin.today/API/current_mode\", 'GET'))\n",
    "# make_request(\"http://griin.today/API/current\", \"POST\", {\"x\": -5, \"y\":10.9})"
   ]
  },
  {
   "cell_type": "code",
   "execution_count": 8,
   "metadata": {},
   "outputs": [
    {
     "data": {
      "text/plain": [
       "{'patrol_path': [{'x': 32.694444783528645, 'y': 32.694444783528645},\n  {'x': 6.294444783528646, 'y': 6.294444783528646},\n  {'x': 19.294444783528647, 'y': 19.294444783528647},\n  {'x': 33.49444478352864, 'y': 33.49444478352864},\n  {'x': 9.694444783528645, 'y': 9.694444783528645},\n  {'x': 30.294444783528647, 'y': 30.294444783528647},\n  {'x': 29.827778116861978, 'y': 29.827778116861978},\n  {'x': 8.494444783528646, 'y': 8.494444783528646}]}"
      ]
     },
     "execution_count": 8,
     "metadata": {},
     "output_type": "execute_result"
    }
   ],
   "source": [
    "r = requests.get(\"http://griin.today/API/current_mode\")\n",
    "json.loads(r.content.decode(\"utf-8\"))['current_mode']\n",
    "\n",
    "make_request(\"http://griin.today/API/current_mode\", \"GET\")\n",
    "\n",
    "\n",
    "\n",
    "make_request(\"http://griin.today/API/current_location\", \"POST\", {\"x\": 1, \"y\":2, \"angle\": 90})\n",
    "make_request(\"http://griin.today/API/patrol_path\", \"GET\")\n",
    "# new data in current mode 0 x, y "
   ]
  },
  {
   "cell_type": "code",
   "execution_count": 5,
   "metadata": {},
   "outputs": [
    {
     "ename": "NameError",
     "evalue": "name 'make_request' is not defined",
     "traceback": [
      "\u001b[1;31m---------------------------------------------------------------------------\u001b[0m",
      "\u001b[1;31mNameError\u001b[0m                                 Traceback (most recent call last)",
      "\u001b[1;32m<ipython-input-5-587fb5589df7>\u001b[0m in \u001b[0;36m<module>\u001b[1;34m()\u001b[0m\n\u001b[0;32m      1\u001b[0m \u001b[0mstr\u001b[0m \u001b[1;33m=\u001b[0m \u001b[1;34m'Distance: 10 angle: -10'\u001b[0m\u001b[1;33m\u001b[0m\u001b[0m\n\u001b[0;32m      2\u001b[0m \u001b[1;33m[\u001b[0m\u001b[0mint\u001b[0m\u001b[1;33m(\u001b[0m\u001b[0ms\u001b[0m\u001b[1;33m)\u001b[0m \u001b[1;32mfor\u001b[0m \u001b[0ms\u001b[0m \u001b[1;32min\u001b[0m \u001b[0mstr\u001b[0m\u001b[1;33m.\u001b[0m\u001b[0msplit\u001b[0m\u001b[1;33m(\u001b[0m\u001b[1;33m)\u001b[0m \u001b[1;32mif\u001b[0m \u001b[0ms\u001b[0m\u001b[1;33m.\u001b[0m\u001b[0misdigit\u001b[0m\u001b[1;33m(\u001b[0m\u001b[1;33m)\u001b[0m\u001b[1;33m]\u001b[0m\u001b[1;33m\u001b[0m\u001b[0m\n\u001b[1;32m----> 3\u001b[1;33m \u001b[0mmake_request\u001b[0m\u001b[1;33m(\u001b[0m\u001b[1;34m\"http://griin.today/API/patrol_path\"\u001b[0m\u001b[1;33m,\u001b[0m \u001b[1;34m\"GET\"\u001b[0m\u001b[1;33m)\u001b[0m\u001b[1;33m\u001b[0m\u001b[0m\n\u001b[0m",
      "\u001b[1;31mNameError\u001b[0m: name 'make_request' is not defined"
     ],
     "output_type": "error"
    }
   ],
   "source": [
    "str = 'Distance: 10 angle: -10'\n",
    "[int(s) for s in str.split() if s.isdigit()]\n",
    "make_request(\"http://griin.today/API/patrol_path\", \"GET\")"
   ]
  },
  {
   "cell_type": "code",
   "execution_count": 2,
   "metadata": {},
   "outputs": [
    {
     "data": {
      "text/plain": [
       "['-7.07106', '-45.0']"
      ]
     },
     "execution_count": 2,
     "metadata": {},
     "output_type": "execute_result"
    }
   ],
   "source": [
    "import re\n",
    "re.findall(r\"[-+]?\\d*\\.\\d+|\\d+\", \"b'Distance: -7.07106 angle: -45.0\\r\\n\")\n"
   ]
  },
  {
   "cell_type": "code",
   "execution_count": 9,
   "metadata": {},
   "outputs": [
    {
     "data": {
      "text/plain": [
       "{'patrol_path': []}"
      ]
     },
     "execution_count": 9,
     "metadata": {},
     "output_type": "execute_result"
    }
   ],
   "source": [
    "make_request(\"http://griin.today/API/patrol_path\", \"GET\")\n"
   ]
  },
  {
   "cell_type": "code",
   "execution_count": null,
   "metadata": {},
   "outputs": [],
   "source": []
  }
 ],
 "metadata": {
  "kernelspec": {
   "display_name": "Python 2",
   "language": "python",
   "name": "python2"
  },
  "language_info": {
   "codemirror_mode": {
    "name": "ipython",
    "version": 2
   },
   "file_extension": ".py",
   "mimetype": "text/x-python",
   "name": "python",
   "nbconvert_exporter": "python",
   "pygments_lexer": "ipython2",
   "version": "2.7.6"
  }
 },
 "nbformat": 4,
 "nbformat_minor": 0
}
