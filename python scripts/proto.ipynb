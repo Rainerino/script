{
 "cells": [
  {
   "cell_type": "code",
   "execution_count": 21,
   "metadata": {
    "collapsed": true
   },
   "outputs": [],
   "source": [
    "import requests\n",
    "import json\n",
    "\n",
    "def make_request(URL, http_mode='GET', data=None):\n",
    "    if http_mode == 'GET':\n",
    "        r = requests.get(URL)\n",
    "        return json.loads(r.content.decode(\"utf-8\"))\n",
    "    else:\n",
    "        requests.post(URL, data)\n",
    "        return\n"
   ]
  },
  {
   "cell_type": "code",
   "execution_count": 22,
   "metadata": {},
   "outputs": [],
   "source": [
    "r = make_request(\"http://griin.today/API/boundaries\", \"POST\", {\"x\": 1, \"y\":2, \"angle\": 90})\n",
    "make_request(\"http://griin.today/API/boundaries\", \"POST\", {\"x\": 10, \"y\":20})\n",
    "make_request(\"http://griin.today/API/boundaries\", \"POST\", {\"x\": 5, \"y\":4})\n",
    "make_request(\"http://griin.today/API/boundaries\", \"POST\", {\"x\": -5, \"y\":10.9})\n",
    "\n",
    "# print(make_request(\"http://griin.today/API/current_mode\", 'GET'))\n",
    "# make_request(\"http://griin.today/API/current\", \"POST\", {\"x\": -5, \"y\":10.9})"
   ]
  },
  {
   "cell_type": "code",
   "execution_count": 24,
   "metadata": {},
   "outputs": [
    {
     "data": {
      "text/plain": [
       "{'current_mode': 1}"
      ]
     },
     "execution_count": 24,
     "metadata": {},
     "output_type": "execute_result"
    }
   ],
   "source": [
    "r = requests.get(\"http://griin.today/API/current_mode\")\n",
    "json.loads(r.content.decode(\"utf-8\"))['current_mode']\n",
    "\n",
    "make_request(\"http://griin.today/API/current_mode\", \"GET\")\n",
    "\n",
    "\n",
    "make_request(\"http://griin.today/API/patrol_path\", \"GET\")\n",
    "make_request(\"http://griin.today/API/current_location\", \"POST\", {\"x\": 1, \"y\":2, \"angle\": 90})\n",
    "make_request(\"http://griin.today/API/patrol_path\", \"GET\")"
   ]
  },
  {
   "cell_type": "code",
   "execution_count": 4,
   "metadata": {},
   "outputs": [
    {
     "data": {
      "text/plain": [
       "[10]"
      ]
     },
     "execution_count": 4,
     "metadata": {},
     "output_type": "execute_result"
    }
   ],
   "source": [
    "str = 'Distance: 10 angle: -10'\n",
    "[int(s) for s in str.split() if s.isdigit()]"
   ]
  },
  {
   "cell_type": "code",
   "execution_count": 2,
   "metadata": {},
   "outputs": [
    {
     "data": {
      "text/plain": [
       "['-7.07106', '-45.0']"
      ]
     },
     "execution_count": 2,
     "metadata": {},
     "output_type": "execute_result"
    }
   ],
   "source": [
    "import re\n",
    "re.findall(r\"[-+]?\\d*\\.\\d+|\\d+\", \"b'Distance: -7.07106 angle: -45.0\\r\\n\")\n"
   ]
  },
  {
   "cell_type": "code",
   "execution_count": null,
   "metadata": {},
   "outputs": [],
   "source": []
  }
 ],
 "metadata": {
  "kernelspec": {
   "display_name": "Python 2",
   "language": "python",
   "name": "python2"
  },
  "language_info": {
   "codemirror_mode": {
    "name": "ipython",
    "version": 2
   },
   "file_extension": ".py",
   "mimetype": "text/x-python",
   "name": "python",
   "nbconvert_exporter": "python",
   "pygments_lexer": "ipython2",
   "version": "2.7.6"
  }
 },
 "nbformat": 4,
 "nbformat_minor": 0
}
