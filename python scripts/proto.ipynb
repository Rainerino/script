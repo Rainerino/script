{
 "cells": [
  {
   "cell_type": "code",
   "execution_count": 1,
   "metadata": {
    "collapsed": true
   },
   "outputs": [],
   "source": [
    "import requests\n",
    "def make_request(URL, http_mode='GET', data={}, return_value=False):\n",
    "    if http_mode == 'GET':\n",
    "        requests.get(URL)\n",
    "        return\n",
    "    else:\n",
    "        r = requests.post(URL, data)\n",
    "        if return_value:\n",
    "            return r.content\n",
    "        else:\n",
    "            return\n"
   ]
  },
  {
   "cell_type": "code",
   "execution_count": 9,
   "metadata": {},
   "outputs": [],
   "source": [
    "r = make_request(\"http://griin.today/API/boundaries\", \"POST\", {\"x\": 1, \"y\":2})\n",
    "make_request(\"http://griin.today/API/boundaries\", \"POST\", {\"x\": 10, \"y\":20})\n",
    "make_request(\"http://griin.today/API/boundaries\", \"POST\", {\"x\": 5, \"y\":4})\n",
    "make_request(\"http://griin.today/API/boundaries\", \"POST\", {\"x\": -5, \"y\":10.9})\n",
    "\n",
    "\n",
    "# make_request(\"http://griin.today/API/current\", \"POST\", {\"x\": -5, \"y\":10.9})"
   ]
  },
  {
   "cell_type": "code",
   "execution_count": 8,
   "metadata": {},
   "outputs": [
    {
     "data": {
      "text/plain": [
       "b'{\"current_mode\": 0, \"mode_data\": [{\"y\": -10.34, \"x\": 113.3}, {\"y\": -10.34, \"x\": 113.3}]}'"
      ]
     },
     "execution_count": 8,
     "metadata": {},
     "output_type": "execute_result"
    }
   ],
   "source": [
    "r = requests.get(\"http://griin.today/API/current_mode\")\n",
    "r.content"
   ]
  },
  {
   "cell_type": "code",
   "execution_count": 10,
   "metadata": {},
   "outputs": [
    {
     "data": {
      "text/plain": [
       "[10, 0]"
      ]
     },
     "execution_count": 10,
     "metadata": {},
     "output_type": "execute_result"
    }
   ],
   "source": [
    "str = b'Distance: 10 angle: 0\\r\\n'\n",
    "[int(s) for s in str.split() if s.isdigit()]"
   ]
  },
  {
   "cell_type": "code",
   "execution_count": null,
   "metadata": {},
   "outputs": [],
   "source": []
  }
 ],
 "metadata": {
  "kernelspec": {
   "display_name": "Python 2",
   "language": "python",
   "name": "python2"
  },
  "language_info": {
   "codemirror_mode": {
    "name": "ipython",
    "version": 2
   },
   "file_extension": ".py",
   "mimetype": "text/x-python",
   "name": "python",
   "nbconvert_exporter": "python",
   "pygments_lexer": "ipython2",
   "version": "2.7.6"
  }
 },
 "nbformat": 4,
 "nbformat_minor": 0
}
